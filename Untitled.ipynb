{
 "cells": [
  {
   "cell_type": "code",
   "execution_count": 21,
   "metadata": {},
   "outputs": [],
   "source": [
    "def find_amx_alignment(seq1,seq2):\n",
    "    if len(seq1) > len(seq2):\n",
    "        long = seq1\n",
    "        short = seq2\n",
    "    else:\n",
    "        long = seq2\n",
    "        short= seq1\n",
    "    \n",
    "    offset = 0\n",
    "    max_same = 0\n",
    "    max_at_offset = None\n",
    "    while offset < len(long):\n",
    "        same = 0\n",
    "        for i,s_ele in enumerate(short):\n",
    "            if offset+i < len(long):\n",
    "                if s_ele == long[offset+i]:\n",
    "                    same += 1\n",
    "        if same > max_same:\n",
    "            max_same = same\n",
    "            max_at_offset = offset\n",
    "        offset += 1\n",
    "    return max_same,max_at_offset,short,long\n",
    "    \n",
    "    "
   ]
  },
  {
   "cell_type": "code",
   "execution_count": 23,
   "metadata": {},
   "outputs": [
    {
     "name": "stdout",
     "output_type": "stream",
     "text": [
      "5\n",
      "8\n",
      "['-', '-', '----', '-', '-', '-', '-', '-', '1', '2', '3', '4', '1', '1', '1', '1', '5', '6', '7', '8']\n",
      "['2', '3', '8888', '7', '5', '7', '3', '2', '8', '2', '9', '0', '1', '1', '1', '1', '7', '1', '3', '2', '1', '1']\n"
     ]
    }
   ],
   "source": [
    "a = [1,2,3,4,1,1,1,1,5,6,7,8]\n",
    "a = [str(x) for x in a]\n",
    "b = [2,3,8888,7,5,7,3,2,8,2,9,0,1,1,1,1,7,1,3,2,1,1,]\n",
    "b = [str(x) for x in b]\n",
    "max_same, max_at_offset,short,long = find_amx_alignment(a,b)\n",
    "for i in range(max_at_offset):\n",
    "    short.insert(i,'-'*len(long[i]))\n",
    "print(max_same)\n",
    "print(max_at_offset)\n",
    "print(a)\n",
    "print(b)"
   ]
  },
  {
   "cell_type": "code",
   "execution_count": 25,
   "metadata": {},
   "outputs": [
    {
     "data": {
      "text/plain": [
       "[7, 8, 9]"
      ]
     },
     "execution_count": 25,
     "metadata": {},
     "output_type": "execute_result"
    }
   ],
   "source": [
    "list(range(7,10))"
   ]
  },
  {
   "cell_type": "code",
   "execution_count": 27,
   "metadata": {},
   "outputs": [
    {
     "name": "stdout",
     "output_type": "stream",
     "text": [
      "Length of LCS is  4\n"
     ]
    }
   ],
   "source": [
    "def lcs(X, Y, m, n): \n",
    "  \n",
    "    if m == 0 or n == 0: \n",
    "       return 0; \n",
    "    elif X[m-1] == Y[n-1]: \n",
    "       return 1 + lcs(X, Y, m-1, n-1); \n",
    "    else: \n",
    "       return max(lcs(X, Y, m, n-1), lcs(X, Y, m-1, n)); \n",
    "  \n",
    "  \n",
    "# Driver program to test the above function \n",
    "X = \"AGGTAB\"\n",
    "Y = \"GXTXAYB\"\n",
    "print (\"Length of LCS is \", lcs(X , Y, len(X), len(Y)))"
   ]
  },
  {
   "cell_type": "code",
   "execution_count": 33,
   "metadata": {},
   "outputs": [
    {
     "name": "stdout",
     "output_type": "stream",
     "text": [
      "[[None, None, None, None, None, None, None, None], [None, None, None, None, None, None, None, None], [None, None, None, None, None, None, None, None], [None, None, None, None, None, None, None, None], [None, None, None, None, None, None, None, None], [None, None, None, None, None, None, None, None], [None, None, None, None, None, None, None, None]]\n",
      "[[0, 0, 0, 0, 0, 0, 0, 0], [0, 0, 0, 0, 0, 1, 1, 1], [0, 1, 1, 1, 1, 1, 1, 1], [0, 1, 1, 1, 1, 1, 1, 1], [0, 1, 1, 2, 2, 2, 2, 2], [0, 1, 1, 2, 2, 3, 3, 3], [0, 1, 1, 2, 2, 3, 3, 4]]\n",
      "Length of LCS is  4\n"
     ]
    }
   ],
   "source": [
    "def lcs(X , Y): \n",
    "    # find the length of the strings \n",
    "    m = len(X) \n",
    "    n = len(Y) \n",
    "  \n",
    "    # declaring the array for storing the dp values \n",
    "    L = [[None]*(n+1) for i in range(m+1)]\n",
    "    print(L)\n",
    "  \n",
    "    \"\"\"Following steps build L[m+1][n+1] in bottom up fashion \n",
    "    Note: L[i][j] contains length of LCS of X[0..i-1] \n",
    "    and Y[0..j-1]\"\"\"\n",
    "    for i in range(m+1): \n",
    "        for j in range(n+1): \n",
    "            if i == 0 or j == 0 : \n",
    "                L[i][j] = 0\n",
    "            elif X[i-1] == Y[j-1]: \n",
    "                L[i][j] = L[i-1][j-1]+1\n",
    "            else: \n",
    "                L[i][j] = max(L[i-1][j] , L[i][j-1]) \n",
    "  \n",
    "    # L[m][n] contains the length of LCS of X[0..n-1] & Y[0..m-1]\n",
    "    print(L)\n",
    "    return L[m][n] \n",
    "#end of function lcs \n",
    "X = \"AGGTAB\"\n",
    "Y = \"GXTXAYB\"\n",
    "print (\"Length of LCS is \", lcs(X, Y) )"
   ]
  },
  {
   "cell_type": "code",
   "execution_count": 126,
   "metadata": {},
   "outputs": [
    {
     "name": "stdout",
     "output_type": "stream",
     "text": [
      "['G', '-', 'A', 'T', 'T', 'A', 'C', 'A']\n",
      "['G', 'C', 'A', '-', 'T', 'G', 'C', 'U']\n",
      "[RowSeq: ['G', '-', 'A', 'T', 'T', 'A', 'C', 'A'] ColSeq: ['G', 'C', 'A', '-', 'T', 'G', 'C', 'U'] Index:(0, 0)]\n"
     ]
    }
   ],
   "source": [
    "import numpy as np          \n",
    "\n",
    "\n",
    "        \n",
    "\n",
    "class Branch:\n",
    "    def __init__(self,row_seq,col_seq,cur_row,cur_col):\n",
    "        self.row_seq = row_seq\n",
    "        self.col_seq = col_seq\n",
    "        self.cur_row = cur_row\n",
    "        self.cur_col = cur_col\n",
    "        \n",
    "    @staticmethod\n",
    "    def preety_print_aligned(seq1,seq2):\n",
    "        s1 = []\n",
    "        s2 = []\n",
    "        for i,x1 in enumerate(seq1):\n",
    "            x2 = seq2[i]\n",
    "            if x1 ==\"-\":\n",
    "                x1 = x1*len(x2)\n",
    "            elif x2 == \"-\":\n",
    "                x2 = x2*len(x1)\n",
    "            elif len(x1) > len(x2):\n",
    "                diff = len(x1) -len(x2)\n",
    "                x2 += \" \"*diff\n",
    "            elif len(x1) < len(x2):\n",
    "                diff = len(x2) -len(x1)\n",
    "                x1 += \" \"*diff\n",
    "\n",
    "            s1.append(x1)\n",
    "            s2.append(x2)\n",
    "        print(s1)\n",
    "        print(s2)\n",
    "    \n",
    "    def __repr__(self):\n",
    "        self.preety_print_aligned(self.row_seq,self.col_seq)\n",
    "        return(f'RowSeq: {self.row_seq} ColSeq: {self.col_seq} Index:{self.cur_row,self.cur_col}')\n",
    "\n",
    "def backtrack(alignment_arr,cols,rows,limit=None):\n",
    "    alignments = []\n",
    "    branchings = []\n",
    "    \n",
    "    match = 1\n",
    "    missmatch = -1\n",
    "    indel = -1\n",
    "    \n",
    "    row = alignment_arr.shape[0]-1\n",
    "    col = alignment_arr.shape[1]-1    \n",
    "\n",
    "    #Init branches\n",
    "    ismatch = rows[row] == cols[col]\n",
    "\n",
    "    curval = alignment_arr[row][col]\n",
    "    opts = {\"top\":alignment_arr[row-1][col],\n",
    "            \"left\":alignment_arr[row][col-1],\n",
    "            \"diag\":alignment_arr[row-1][col-1]\n",
    "           }\n",
    "    for o in opts:\n",
    "        if o == \"top\":\n",
    "            if curval == opts[o] +indel:\n",
    "                branchings.append(Branch([rows[row]],[\"-\"],row-1,col))\n",
    "        if o == \"left\":\n",
    "            if curval == opts[o] +indel:\n",
    "                branchings.append(Branch([\"-\"],[cols[col]],row,col-1))\n",
    "        if o == \"diag\":\n",
    "            ismatch = rows[row] == cols[col]\n",
    "            if ismatch:\n",
    "                if curval == opts[o] +match:\n",
    "                    branchings.append(Branch([rows[row]],[cols[col]],row-1,col-1))\n",
    "            else:\n",
    "                if curval == opts[o] +missmatch:\n",
    "                    branchings.append(Branch([rows[row]],[cols[col]],row-1,col-1))\n",
    "    \n",
    "    while len(branchings)>0:\n",
    "        branch = branchings.pop(0)\n",
    "        cur_row_seq = branch.row_seq\n",
    "        cur_col_seq = branch.col_seq\n",
    "        row = branch.cur_row\n",
    "        col = branch.cur_col\n",
    "        \n",
    "        if row == 0 and col == 0:\n",
    "            alignments.append(branch)\n",
    "            if limit and len(alignments)>= limit:\n",
    "                return alignments\n",
    "        else:        \n",
    "            ismatch = rows[row] == cols[col]\n",
    "\n",
    "            curval = alignment_arr[row][col]\n",
    "            opts = {\"top\":alignment_arr[row-1][col],\n",
    "                    \"left\":alignment_arr[row][col-1],\n",
    "                    \"diag\":alignment_arr[row-1][col-1]\n",
    "                   }\n",
    "            for o in opts:\n",
    "                if o == \"top\":\n",
    "                    if curval == opts[o] +indel:\n",
    "                        r = cur_row_seq.copy()\n",
    "                        c = cur_col_seq.copy()\n",
    "                        r.insert(0,rows[row])\n",
    "                        c.insert(0,\"-\")\n",
    "                        branchings.insert(0,Branch(r,c,row-1,col))\n",
    "                if o == \"left\":\n",
    "                    if curval == opts[o] +indel:\n",
    "                        r = cur_row_seq.copy()\n",
    "                        c = cur_col_seq.copy()\n",
    "                        r.insert(0,\"-\")\n",
    "                        c.insert(0,cols[col])\n",
    "                        branchings.insert(0,Branch(r,c,row,col-1))\n",
    "                if o == \"diag\":\n",
    "                    ismatch = rows[row] == cols[col]\n",
    "                    if ismatch:\n",
    "                        if curval == opts[o] +match:\n",
    "                            r = cur_row_seq.copy()\n",
    "                            c = cur_col_seq.copy()\n",
    "                            r.insert(0,rows[row])\n",
    "                            c.insert(0,cols[col])\n",
    "                            branchings.insert(0,Branch(r,c,row-1,col-1))\n",
    "                    else:\n",
    "                        if curval == opts[o] +missmatch:\n",
    "                            r = cur_row_seq.copy()\n",
    "                            c = cur_col_seq.copy()\n",
    "                            r.insert(0,rows[row])\n",
    "                            c.insert(0,cols[col])\n",
    "                            branchings.insert(0,Branch(r,c,row-1,col-1))\n",
    "    return alignments   \n",
    "    \n",
    "\n",
    "def alignment(a,b):\n",
    "    match = 1\n",
    "    missmatch = -1\n",
    "    indel = -1\n",
    "    \n",
    "    cols = [\"#\"]+[x for x in a]\n",
    "    rows = [\"#\"]+[x for x in b]\n",
    "    arr = np.zeros((len(rows),len(cols)))\n",
    "    \n",
    "    for c in range(len(cols)):\n",
    "        for r in range(len(rows)):\n",
    "            if c == 0 and r == 0:\n",
    "                arr[0][0] = 0\n",
    "            elif c == 0:\n",
    "                arr[r][c] = arr[r-1][c] + indel\n",
    "            elif r == 0:\n",
    "                arr[r][c] = arr[r][c-1] + indel\n",
    "            else:\n",
    "                top = arr[r-1][c] + indel\n",
    "                left = arr[r][c-1] + indel\n",
    "                if cols[c] == rows[r]:\n",
    "                    diag = arr[r-1][c-1]  +match\n",
    "                else:\n",
    "                    diag = arr[r-1][c-1]  +missmatch\n",
    "                \n",
    "                opts = np.array([top,left,diag])\n",
    "                max_opt = np.argmax(opts)\n",
    "                max_val = opts[max_opt]\n",
    "                arr[r][c] = max_val\n",
    "    \n",
    "    opt_alignments = backtrack(arr,cols,rows,limit=1)\n",
    "      \n",
    "                \n",
    "    return arr,opt_alignments\n",
    "\n",
    "    \n",
    "    \n",
    "\n",
    "a = \"GCATGCU\"\n",
    "b = \"GATTACA\"\n",
    "\n",
    "# a = [\"ab\",\"abc\",\"ab\"]\n",
    "# b = [\"ab\",\"ab\",\"abc\"]\n",
    "\n",
    "res_arr,opt_alignment = alignment(a,b)\n",
    "print(opt_alignment)"
   ]
  },
  {
   "cell_type": "code",
   "execution_count": 65,
   "metadata": {},
   "outputs": [
    {
     "data": {
      "text/plain": [
       "array([[1., 1., 1., 1.],\n",
       "       [1., 1., 1., 1.],\n",
       "       [1., 1., 1., 1.],\n",
       "       [1., 1., 1., 1.],\n",
       "       [1., 1., 1., 1.]])"
      ]
     },
     "execution_count": 65,
     "metadata": {},
     "output_type": "execute_result"
    }
   ],
   "source": [
    "a = np.ones((5,5))\n",
    "a[:,:-1]"
   ]
  },
  {
   "cell_type": "code",
   "execution_count": 72,
   "metadata": {},
   "outputs": [
    {
     "data": {
      "text/plain": [
       "[[1], []]"
      ]
     },
     "execution_count": 72,
     "metadata": {},
     "output_type": "execute_result"
    }
   ],
   "source": [
    "a = [[],[]]\n",
    "a[0].insert(0,1)\n",
    "a"
   ]
  }
 ],
 "metadata": {
  "kernelspec": {
   "display_name": "Python [conda env:wier] *",
   "language": "python",
   "name": "conda-env-wier-py"
  },
  "language_info": {
   "codemirror_mode": {
    "name": "ipython",
    "version": 3
   },
   "file_extension": ".py",
   "mimetype": "text/x-python",
   "name": "python",
   "nbconvert_exporter": "python",
   "pygments_lexer": "ipython3",
   "version": "3.6.10"
  }
 },
 "nbformat": 4,
 "nbformat_minor": 4
}
